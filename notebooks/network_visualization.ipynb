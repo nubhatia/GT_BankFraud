{
 "cells": [
  {
   "cell_type": "code",
   "execution_count": null,
   "metadata": {},
   "outputs": [],
   "source": [
    "import networkx as nx\n",
    "import pandas as pd\n",
    "import random\n",
    "import matplotlib.pyplot as plt\n",
    "import math"
   ]
  },
  {
   "cell_type": "code",
   "execution_count": null,
   "metadata": {},
   "outputs": [],
   "source": [
    "def topo_pos(G):\n",
    "    \"\"\"Display in topological order, with simple offsetting for legibility\"\"\"\n",
    "    pos_dict = {}\n",
    "    for i, node_list in enumerate(nx.topological_generations(G)):\n",
    "        x_offset = len(node_list) / 2\n",
    "        y_offset = 0.1\n",
    "        for j, name in enumerate(node_list):\n",
    "            pos_dict[name] = (j - x_offset, -i + j * y_offset)\n",
    "\n",
    "    return pos_dict"
   ]
  },
  {
   "cell_type": "code",
   "execution_count": null,
   "metadata": {},
   "outputs": [],
   "source": [
    "df=pd.read_csv('../data/Base.csv')\n",
    "df.columns"
   ]
  },
  {
   "cell_type": "code",
   "execution_count": null,
   "metadata": {},
   "outputs": [],
   "source": [
    "df.head()"
   ]
  },
  {
   "cell_type": "code",
   "execution_count": null,
   "metadata": {},
   "outputs": [],
   "source": [
    "fraud_df = df[df.fraud_bool==1]\n",
    "fraud_df.shape"
   ]
  },
  {
   "cell_type": "code",
   "execution_count": null,
   "metadata": {},
   "outputs": [],
   "source": [
    "df_layer_1 = fraud_df[['source']]\\\n",
    "                .groupby(['source'])\\\n",
    "                .size()\\\n",
    "                .reset_index()\\\n",
    "                .rename(columns={0:'weight', 'source':'destination'})\n",
    "df_layer_1['source'] = 'Source'\n",
    "df_layer_1 = df_layer_1[['source', 'destination', 'weight']]\n",
    "df_layer_1['weight'] = df_layer_1['weight']\n",
    "df_layer_1['layer'] = 'layer_1'\n",
    "df_layer_1"
   ]
  },
  {
   "cell_type": "code",
   "execution_count": null,
   "metadata": {},
   "outputs": [],
   "source": [
    "df_layer_2 = fraud_df[['source', 'device_os']]\\\n",
    "                .groupby(['source', 'device_os'])\\\n",
    "                .size()\\\n",
    "                .reset_index()\\\n",
    "                .rename(columns={0:'weight', 'device_os':'destination'})\n",
    "df_layer_2['layer'] = 'layer_2'\n",
    "df_layer_2"
   ]
  },
  {
   "cell_type": "code",
   "execution_count": null,
   "metadata": {},
   "outputs": [],
   "source": [
    "df_layer_3 = fraud_df[['device_os', 'payment_type']]\\\n",
    "                .groupby(['device_os', 'payment_type'])\\\n",
    "                .size()\\\n",
    "                .reset_index()\\\n",
    "                .rename(columns={0:'weight', 'device_os':'source', 'payment_type':'destination'})\n",
    "df_layer_3['layer'] = 'layer_3'\n",
    "df_layer_3"
   ]
  },
  {
   "cell_type": "code",
   "execution_count": null,
   "metadata": {},
   "outputs": [],
   "source": [
    "df_layer_4 = fraud_df[['payment_type', 'keep_alive_session']]\n",
    "df_layer_4['keep_alive_session'] = df_layer_4['keep_alive_session'].map({0:'No', 1:'Yes'})\n",
    "df_layer_4 = df_layer_4[['payment_type', 'keep_alive_session']]\\\n",
    "                .groupby(['payment_type', 'keep_alive_session'])\\\n",
    "                .size()\\\n",
    "                .reset_index()\\\n",
    "                .rename(columns={0:'weight', 'payment_type':'source', 'keep_alive_session':'destination'})\n",
    "df_layer_4['layer'] = 'layer_4'\n",
    "df_layer_4\n",
    "\n"
   ]
  },
  {
   "cell_type": "code",
   "execution_count": null,
   "metadata": {},
   "outputs": [],
   "source": [
    "df_layer_5                          = fraud_df[['keep_alive_session', 'session_length_in_minutes']]\n",
    "df_layer_5['keep_alive_session']    = df_layer_5['keep_alive_session'].map({0:'No', 1:'Yes'})\n",
    "df_layer_5                          = df_layer_5[df_layer_5.session_length_in_minutes > 0]\n",
    "\n",
    "df_layer_5['session_length'] = pd.cut(\n",
    "                        x=df_layer_5['session_length_in_minutes'], \n",
    "                        bins=[0, 5, 15, 30, 60, 100],\n",
    "                        labels=['< 5 Mins', '5-15 mins', '15-30 mins', '30-60 mins', '>60 mins']\n",
    "                        )\n",
    "\n",
    "df_layer_5 = df_layer_5[['keep_alive_session', 'session_length']]\\\n",
    "                .groupby(['keep_alive_session', 'session_length'])\\\n",
    "                .size()\\\n",
    "                .reset_index()\\\n",
    "                .rename(columns={0:'weight', 'keep_alive_session':'source', 'session_length':'destination'})\n",
    "df_layer_5['layer'] = 'layer_5'\n",
    "df_layer_5"
   ]
  },
  {
   "cell_type": "code",
   "execution_count": null,
   "metadata": {},
   "outputs": [],
   "source": [
    "graph_df = pd.concat([df_layer_1, df_layer_2, df_layer_3, df_layer_4, df_layer_5])\n",
    "# graph_df.apply(lambda x: x.astype(str).str.upper())"
   ]
  },
  {
   "cell_type": "code",
   "execution_count": null,
   "metadata": {},
   "outputs": [],
   "source": [
    "graph_layer = list(graph_df[['source', 'destination', 'weight']].apply(tuple, axis=1))\n",
    "graph_layer"
   ]
  },
  {
   "cell_type": "code",
   "execution_count": null,
   "metadata": {},
   "outputs": [],
   "source": [
    "# Same example data as top answer, but directed\n",
    "G=nx.DiGraph()\n",
    "G.add_weighted_edges_from(graph_layer)\n",
    "pos = topo_pos(G)\n",
    "labels = nx.get_edge_attributes(G,'weight')\n",
    "\n",
    "\n",
    "node_color = [G.degree(v) for v in G] # Node Color\n",
    "node_size_dict = dict(G.degree)\n",
    "node_size  = [node_size_dict[k]*400 for k in node_size_dict] # Node Color\n",
    "\n",
    "edge_width = [0.0010 * G[u][v]['weight'] for u, v in G.edges()]  # Edge Width\n",
    "\n",
    "fig, ax = plt.subplots(figsize=(10,10))\n",
    "nx.draw_networkx(G, \n",
    "                 pos,\n",
    "                 ax=ax,\n",
    "                 font_size=6,\n",
    "                 node_color = node_color, \n",
    "                 node_size=node_size,\n",
    "                #  node_shape=\"c\",\n",
    "                 alpha = 0.6, \n",
    "                 width = edge_width, \n",
    "                 font_weight=\"bold\",\n",
    "                 cmap = plt.cm.tab20_r\n",
    "                 )\n",
    "nx.draw_networkx_edge_labels(G,\n",
    "                             pos, \n",
    "                             edge_labels=labels,\n",
    "                             label_pos = 0.6,\n",
    "                             font_size=6,\n",
    "                             alpha=1,\n",
    "                             rotate=False,\n",
    "                             )\n",
    "\n",
    "ax.set_title(\"Fraudulent Transaction Flow\")\n",
    "fig.tight_layout()\n",
    "plt.savefig('Fraudulent_Transaction_Flow.png')\n",
    "plt.show()"
   ]
  },
  {
   "cell_type": "code",
   "execution_count": null,
   "metadata": {},
   "outputs": [],
   "source": [
    "# Remove Node Customization\n",
    "G=nx.DiGraph()\n",
    "G.add_weighted_edges_from(graph_layer)\n",
    "G.remove_nodes_from(['linux', 'macintosh', 'other']) ### Remove Nodes\n",
    "pos = topo_pos(G)\n",
    "labels = nx.get_edge_attributes(G,'weight')\n",
    "\n",
    "\n",
    "node_color = [G.degree(v) for v in G] # Node Color\n",
    "node_size_dict = dict(G.degree)\n",
    "node_size  = [node_size_dict[k]*400 for k in node_size_dict] # Node Color\n",
    "\n",
    "edge_width = [0.0010 * G[u][v]['weight'] for u, v in G.edges()]  # Edge Width\n",
    "\n",
    "fig, ax = plt.subplots(figsize=(10,10))\n",
    "\n",
    "nx.draw_networkx(G, \n",
    "                 pos,\n",
    "                 ax=ax,\n",
    "                 font_size=6,\n",
    "                 node_color = node_color, \n",
    "                 node_size=node_size,\n",
    "                #  node_shape=\"c\",\n",
    "                 alpha = 0.6, \n",
    "                 width = edge_width, \n",
    "                 font_weight=\"bold\",\n",
    "                 cmap = plt.cm.tab20_r\n",
    "                 )\n",
    "nx.draw_networkx_edge_labels(G,\n",
    "                             pos, \n",
    "                             edge_labels=labels,\n",
    "                             label_pos = 0.6,\n",
    "                             font_size=6,\n",
    "                             alpha=1,\n",
    "                             rotate=False,\n",
    "                             )\n",
    "\n",
    "ax.set_title(\"Fraudulent Transaction Flow\")\n",
    "fig.tight_layout()\n",
    "plt.savefig('Fraudulent_Transaction_Flow.png')\n",
    "plt.show()\n",
    "# list(G.edges)\n"
   ]
  },
  {
   "cell_type": "code",
   "execution_count": null,
   "metadata": {},
   "outputs": [],
   "source": [
    "from matplotlib import colormaps\n",
    "list(colormaps)"
   ]
  }
 ],
 "metadata": {
  "kernelspec": {
   "display_name": "base",
   "language": "python",
   "name": "python3"
  },
  "language_info": {
   "codemirror_mode": {
    "name": "ipython",
    "version": 3
   },
   "file_extension": ".py",
   "mimetype": "text/x-python",
   "name": "python",
   "nbconvert_exporter": "python",
   "pygments_lexer": "ipython3",
   "version": "3.10.9"
  }
 },
 "nbformat": 4,
 "nbformat_minor": 2
}
